{
  "nbformat": 4,
  "nbformat_minor": 0,
  "metadata": {
    "colab": {
      "provenance": [],
      "include_colab_link": true
    },
    "kernelspec": {
      "name": "python3",
      "display_name": "Python 3"
    },
    "language_info": {
      "name": "python"
    }
  },
  "cells": [
    {
      "cell_type": "markdown",
      "metadata": {
        "id": "view-in-github",
        "colab_type": "text"
      },
      "source": [
        "<a href=\"https://colab.research.google.com/github/Cuong22MSE23093/BigData/blob/main/%5BMid%20Exam%5D%20Lab4.ipynb\" target=\"_parent\"><img src=\"https://colab.research.google.com/assets/colab-badge.svg\" alt=\"Open In Colab\"/></a>"
      ]
    },
    {
      "cell_type": "markdown",
      "metadata": {
        "id": "roAyNwmf67Cl"
      },
      "source": [
        "## Exercise 1\n",
        "Write a function to compute the below formualation with the use of map function\n",
        "\\begin{equation}\n",
        "x^2 + y^2 - r^2\n",
        "\\end{equation}\n",
        "\n",
        "then, print out the values of the equation at these below values of $x$, $y$ and $z$\n",
        "```\n",
        "x = [1,2,3,4,5,6]\n",
        "y = [2,3,4,5,6,7]\n",
        "r = [1,1,3,3,4,5]\n",
        "\n",
        "```"
      ]
    },
    {
      "cell_type": "code",
      "source": [
        "# Exercise 1\n",
        "\n",
        "# 𝑥2+𝑦2−𝑟2\n",
        "# x = [1,2,3,4,5,6]\n",
        "# y = [2,3,4,5,6,7]\n",
        "# r = [1,1,3,3,4,5]\n",
        "\n",
        "def compute_equation(x, y, r):\n",
        "  \"\"\"\n",
        "  Computes the equation x^2 + y^2 - r^2 for corresponding values in lists x, y, and r.\n",
        "\n",
        "  Args:\n",
        "      x: List of x values.\n",
        "      y: List of y values.\n",
        "      r: List of r values.\n",
        "\n",
        "  Returns:\n",
        "      List of computed equation values.\n",
        "  \"\"\"\n",
        "\n",
        "  equation_values = map(lambda x_val, y_val, r_val: x_val**2 + y_val**2 - r_val**2, x, y, r)\n",
        "  return list(equation_values)\n",
        "\n",
        "# Define the lists\n",
        "x = [1, 2, 3, 4, 5, 6]\n",
        "y = [2, 3, 4, 5, 6, 7]\n",
        "r = [1, 1, 3, 3, 4, 5]\n",
        "\n",
        "# Compute and print the equation values\n",
        "equation_values = compute_equation(x, y, r)\n",
        "print(equation_values)"
      ],
      "metadata": {
        "id": "HSSV9GP2H7sw",
        "outputId": "0c2f4160-b714-4406-a0fd-84d417e5331a",
        "colab": {
          "base_uri": "https://localhost:8080/"
        }
      },
      "execution_count": 1,
      "outputs": [
        {
          "output_type": "stream",
          "name": "stdout",
          "text": [
            "[4, 12, 16, 32, 45, 60]\n"
          ]
        }
      ]
    },
    {
      "cell_type": "markdown",
      "metadata": {
        "id": "jbbvCewW-Zib"
      },
      "source": [
        "## Exercise 2\n",
        "\n",
        "Write a function that take input as a list of words and return to a list of integers representing the lengths of the correponding words.\n",
        "\n",
        "Write it in three different ways:\n",
        "1. using a for-loop,\n",
        "2. using function `map()`, and\n",
        "3. using list comprehensions."
      ]
    },
    {
      "cell_type": "code",
      "source": [
        "# Exercise 2\n",
        "\n",
        "def get_word_lengths_for_loop(words):\n",
        "  \"\"\"\n",
        "  Computes the lengths of words in a list using a for-loop.\n",
        "\n",
        "  Args:\n",
        "      words: List of words.\n",
        "\n",
        "  Returns:\n",
        "      List of word lengths.\n",
        "  \"\"\"\n",
        "\n",
        "  word_lengths = []\n",
        "  for word in words:\n",
        "    word_lengths.append(len(word))\n",
        "  return word_lengths\n",
        "\n",
        "def get_word_lengths_map(words):\n",
        "  \"\"\"\n",
        "  Computes the lengths of words in a list using the map function.\n",
        "\n",
        "  Args:\n",
        "      words: List of words.\n",
        "\n",
        "  Returns:\n",
        "      List of word lengths.\n",
        "  \"\"\"\n",
        "\n",
        "  word_lengths = map(lambda word: len(word), words)\n",
        "  return list(word_lengths)\n",
        "\n",
        "def get_word_lengths_comprehension(words):\n",
        "  \"\"\"\n",
        "  Computes the lengths of words in a list using list comprehension.\n",
        "\n",
        "  Args:\n",
        "      words: List of words.\n",
        "\n",
        "  Returns:\n",
        "      List of word lengths.\n",
        "  \"\"\"\n",
        "\n",
        "  word_lengths = [len(word) for word in words]\n",
        "  return word_lengths\n",
        "\n",
        "# Define the list of words\n",
        "words = ['real', 'rock', 'realize', 'rocket', 'red', 'eraser', '7', '8', '9', '10']\n",
        "\n",
        "# Compute the word lengths using different methods\n",
        "word_lengths_for_loop = get_word_lengths_for_loop(words)\n",
        "word_lengths_map = get_word_lengths_map(words)\n",
        "word_lengths_comprehension = get_word_lengths_comprehension(words)\n",
        "\n",
        "# Print the results\n",
        "print(\"Word lengths (for-loop):\", word_lengths_for_loop)\n",
        "print(\"Word lengths (map):\", word_lengths_map)\n",
        "print(\"Word lengths (list comprehension):\", word_lengths_comprehension)"
      ],
      "metadata": {
        "id": "IgfPcB8oLTSx",
        "outputId": "83117403-6aa6-401e-b665-2d938333b396",
        "colab": {
          "base_uri": "https://localhost:8080/"
        }
      },
      "execution_count": 2,
      "outputs": [
        {
          "output_type": "stream",
          "name": "stdout",
          "text": [
            "Word lengths (for-loop): [4, 4, 7, 6, 3, 6, 1, 1, 1, 2]\n",
            "Word lengths (map): [4, 4, 7, 6, 3, 6, 1, 1, 1, 2]\n",
            "Word lengths (list comprehension): [4, 4, 7, 6, 3, 6, 1, 1, 1, 2]\n"
          ]
        }
      ]
    },
    {
      "cell_type": "markdown",
      "metadata": {
        "id": "wJwBpx3CB6Mz"
      },
      "source": [
        "## Exercise 3\n",
        "\n",
        "Implement a program to make a list whose elements are double string of a string `re` (i.e., `rere`), where `re` is the first two characters of approriate elements in this list:\n",
        "\n",
        "`['real', 'rock', 'realize', 'rocket', 'red', 'eraser' , '7', 8 , 9, 10]`."
      ]
    },
    {
      "cell_type": "code",
      "source": [
        "# Exercise 3\n",
        "\n",
        "def double_first_two_chars(strings):\n",
        "  \"\"\"\n",
        "  Creates a list of strings where each element is the first two characters of the corresponding string in the input list, doubled.\n",
        "\n",
        "  Args:\n",
        "      strings: List of strings.\n",
        "\n",
        "  Returns:\n",
        "      List of double first two characters of strings.\n",
        "  \"\"\"\n",
        "\n",
        "  doubled_strings = []\n",
        "  for string in strings:\n",
        "    first_two_chars = string[:2]\n",
        "    doubled_strings.append(first_two_chars * 2)\n",
        "  return doubled_strings\n",
        "\n",
        "# Define the list of strings\n",
        "strings = ['real', 'rock', 'realize', 'rocket', 'red', 'eraser', '7', '8', '9', '10']\n",
        "\n",
        "# Create the list of doubled first two characters\n",
        "doubled_strings = double_first_two_chars(strings)\n",
        "\n",
        "# Print the results\n",
        "print(\"Doubled first two characters:\", doubled_strings)\n"
      ],
      "metadata": {
        "id": "TvyLK6aekEq6",
        "outputId": "0a239c1a-6c36-4f0a-fc43-1cb2c4431dec",
        "colab": {
          "base_uri": "https://localhost:8080/"
        }
      },
      "execution_count": 3,
      "outputs": [
        {
          "output_type": "stream",
          "name": "stdout",
          "text": [
            "Doubled first two characters: ['rere', 'roro', 'rere', 'roro', 'rere', 'erer', '77', '88', '99', '1010']\n"
          ]
        }
      ]
    },
    {
      "cell_type": "markdown",
      "metadata": {
        "id": "FmUuMocREUy4"
      },
      "source": [
        "## Exercise 4\n",
        "\n",
        "Write a function `max_in_list()` that takes a list of numbers and returns the largest one using `reduce()` in lib `functools`"
      ]
    },
    {
      "cell_type": "code",
      "source": [
        "# Exercise 4\n",
        "\n",
        "from functools import reduce\n",
        "\n",
        "def max_in_list(numbers):\n",
        "  \"\"\"\n",
        "  Computes the maximum value in a list of numbers using reduce().\n",
        "\n",
        "  Args:\n",
        "      numbers: List of numbers.\n",
        "\n",
        "  Returns:\n",
        "      The maximum value in the list.\n",
        "  \"\"\"\n",
        "\n",
        "  if len(numbers) == 0:\n",
        "    raise ValueError(\"Empty list\")\n",
        "  return reduce(lambda x, y: max(x, y), numbers)\n",
        "\n",
        "# Define the list of numbers\n",
        "numbers = [1, 2, 3, 4, 5, 6, 7, 8, 99, 10]\n",
        "\n",
        "# Compute the maximum value\n",
        "max_value = max_in_list(numbers)\n",
        "\n",
        "# Print the result\n",
        "print(\"Maximum value:\", max_value)\n"
      ],
      "metadata": {
        "id": "CTFyD6VHLiq4",
        "outputId": "2c9025e8-ceb6-4b0e-adab-76b9870aa70f",
        "colab": {
          "base_uri": "https://localhost:8080/"
        }
      },
      "execution_count": 4,
      "outputs": [
        {
          "output_type": "stream",
          "name": "stdout",
          "text": [
            "Maximum value: 99\n"
          ]
        }
      ]
    },
    {
      "cell_type": "markdown",
      "source": [
        "## Exercise 5\n",
        "\n",
        "Using Python `map` to write a Python program to triple all numbers of a given list of integers."
      ],
      "metadata": {
        "id": "HH2WAgksg9wM"
      }
    },
    {
      "cell_type": "code",
      "source": [
        "# Exercise 5\n",
        "\n",
        "def triple(n):\n",
        "  \"\"\"\n",
        "  Triples a number.\n",
        "\n",
        "  Args:\n",
        "      n: The number to triple.\n",
        "\n",
        "  Returns:\n",
        "      The tripled number.\n",
        "  \"\"\"\n",
        "\n",
        "  return n * 3\n",
        "\n",
        "# Define the list of integers\n",
        "numbers = [1, 2, 3, 4, 5, 6, 7, 8, 9, 10]\n",
        "\n",
        "# Triple all numbers using map\n",
        "tripled_numbers = map(triple, numbers)\n",
        "\n",
        "# Convert the map object to a list\n",
        "tripled_numbers_list = list(tripled_numbers)\n",
        "\n",
        "# Print the tripled numbers\n",
        "print(\"Tripled numbers:\", tripled_numbers_list)"
      ],
      "metadata": {
        "id": "J6JAQSlhLmad",
        "outputId": "98f311e5-12ef-47c1-835d-59c9ce6d6c57",
        "colab": {
          "base_uri": "https://localhost:8080/"
        }
      },
      "execution_count": 5,
      "outputs": [
        {
          "output_type": "stream",
          "name": "stdout",
          "text": [
            "Tripled numbers: [3, 6, 9, 12, 15, 18, 21, 24, 27, 30]\n"
          ]
        }
      ]
    },
    {
      "cell_type": "markdown",
      "source": [
        "## Exercise 6\n",
        "Implement parallel processing using `map()` to apply a function across multiple elements of an iterable concurrently, and then use `reduce()` to aggregate the results."
      ],
      "metadata": {
        "id": "xv0H5iw_5_mm"
      }
    },
    {
      "cell_type": "code",
      "source": [
        "# Exercise 6\n",
        "\n",
        "import multiprocessing as mp\n",
        "import functools\n",
        "\n",
        "def square(x):\n",
        "  \"\"\"\n",
        "  Squares a number.\n",
        "\n",
        "  Args:\n",
        "      x: The number to square.\n",
        "\n",
        "  Returns:\n",
        "      The squared number.\n",
        "  \"\"\"\n",
        "\n",
        "  return x**2\n",
        "\n",
        "def main():\n",
        "  \"\"\"\n",
        "  Main function.\n",
        "  \"\"\"\n",
        "\n",
        "  # Create a list of numbers\n",
        "  numbers = [1, 2, 3, 4, 5, 6, 7, 8, 9, 10]\n",
        "\n",
        "  # Create a pool of worker processes\n",
        "  pool = mp.Pool()\n",
        "\n",
        "  # Apply the square function to each number in the list using map\n",
        "  squared_numbers = pool.map(square, numbers)\n",
        "\n",
        "  # Close the pool of worker processes\n",
        "  pool.close()\n",
        "\n",
        "  # Aggregate the squared numbers using reduce\n",
        "  sum_of_squared_numbers = functools.reduce(lambda x, y: x + y, squared_numbers)\n",
        "\n",
        "  # Print the sum of squared numbers\n",
        "  print(\"Sum of squared numbers:\", sum_of_squared_numbers)\n",
        "\n",
        "if __name__ == \"__main__\":\n",
        "  main()\n"
      ],
      "metadata": {
        "id": "4FUQmmUylEbl",
        "outputId": "fd7e2752-764e-4de2-a159-20a8c42b25c3",
        "colab": {
          "base_uri": "https://localhost:8080/"
        }
      },
      "execution_count": 6,
      "outputs": [
        {
          "output_type": "stream",
          "name": "stdout",
          "text": [
            "Sum of squared numbers: 385\n"
          ]
        }
      ]
    },
    {
      "cell_type": "markdown",
      "source": [
        "## Exercise 7\n",
        "Implement a MapReduce-style function to process data distributed across multiple nodes or workers."
      ],
      "metadata": {
        "id": "IF_ouBU-6IYz"
      }
    },
    {
      "cell_type": "code",
      "source": [
        "# Exercise 7\n",
        "\n",
        "import functools\n",
        "\n",
        "def map_reduce(data, map_func, reduce_func):\n",
        "  \"\"\"\n",
        "  Performs a MapReduce operation on the given data.\n",
        "\n",
        "  Args:\n",
        "      data: The data to process.\n",
        "      map_func: The map function to apply to each element of the data.\n",
        "      reduce_func: The reduce function to aggregate the results of the map function.\n",
        "\n",
        "  Returns:\n",
        "      The aggregated result of the MapReduce operation.\n",
        "  \"\"\"\n",
        "\n",
        "  # Create a pool of worker processes\n",
        "  pool = mp.Pool()\n",
        "\n",
        "  # Apply the map function to each element of the data using map\n",
        "  mapped_data = pool.map(map_func, data)\n",
        "\n",
        "  # Close the pool of worker processes\n",
        "  pool.close()\n",
        "\n",
        "  # Aggregate the mapped data using reduce\n",
        "  reduced_result = functools.reduce(reduce_func, mapped_data)\n",
        "\n",
        "  # Return the aggregated result\n",
        "  return reduced_result\n",
        "\n",
        "# Example usage:\n",
        "\n",
        "# Define the data\n",
        "data = [1, 2, 3, 4, 5, 6, 7, 8, 9, 10]\n",
        "\n",
        "# Define the map function\n",
        "def square(x):\n",
        "  return x**2\n",
        "\n",
        "# Define the reduce function\n",
        "def sum(x, y):\n",
        "  return x + y\n",
        "\n",
        "# Perform the MapReduce operation\n",
        "result = map_reduce(data, square, sum)\n",
        "\n",
        "# Print the result\n",
        "print(\"Result:\", result)\n"
      ],
      "metadata": {
        "id": "C9oaW2et6XV5",
        "outputId": "f3d90d56-03ac-4e3d-b36e-aa0d2973373f",
        "colab": {
          "base_uri": "https://localhost:8080/"
        }
      },
      "execution_count": 7,
      "outputs": [
        {
          "output_type": "stream",
          "name": "stdout",
          "text": [
            "Result: 385\n"
          ]
        }
      ]
    }
  ]
}